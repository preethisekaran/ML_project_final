{
 "cells": [
  {
   "cell_type": "code",
   "execution_count": 10,
   "metadata": {
    "collapsed": false
   },
   "outputs": [
    {
     "name": "stdout",
     "output_type": "stream",
     "text": [
      "0.433333333333\n"
     ]
    }
   ],
   "source": [
    "from sklearn import svm, cross_validation, preprocessing\n",
    "import pandas as pd\n",
    "import numpy as np\n",
    "\n",
    "names = ['id', 'id_str', 'screen_name', 'location', 'description', 'url', 'followers_count',\n",
    "                  'friends_count', 'listed_count', 'created_at', 'favourites_count', 'verified',\n",
    "                  'statuses_count', 'lang','status', 'default_profile', 'default_profile_image',\n",
    "                  'has_extended_profile', 'name', 'Label']\n",
    "df = pd.read_csv('twitter_data1.csv', delimiter=None, header=0, names= names)\n",
    "\n",
    "#df.loc[[1]]\n",
    "X= np.array(df.filter(['followers_count','friends_count','listed_count','favourites_count','statuses_count'], axis=1))\n",
    "y = np.array(df['Label'])\n",
    "\n",
    "X_train, X_test, y_train, y_test = cross_validation.train_test_split(X, y, test_size = 0.3)\n",
    "\n",
    "clf = svm.SVC(kernel='rbf')\n",
    "clf.fit(X_train, y_train)\n",
    "\n",
    "\n",
    "accuracy =  clf.score(X_test, y_test)\n",
    "print (accuracy)\n",
    "\n",
    "#example_test =  np.array([[],[]])\n",
    "\n",
    "#example_test = example_test.reshape(len(example_test), -1)\n",
    "\n",
    "#prediction =  clf.predict(example_test)\n",
    "#print (prediction)"
   ]
  },
  {
   "cell_type": "code",
   "execution_count": null,
   "metadata": {
    "collapsed": true
   },
   "outputs": [],
   "source": []
  },
  {
   "cell_type": "code",
   "execution_count": null,
   "metadata": {
    "collapsed": true
   },
   "outputs": [],
   "source": []
  }
 ],
 "metadata": {
  "kernelspec": {
   "display_name": "Python 3",
   "language": "python",
   "name": "python3"
  },
  "language_info": {
   "codemirror_mode": {
    "name": "ipython",
    "version": 3
   },
   "file_extension": ".py",
   "mimetype": "text/x-python",
   "name": "python",
   "nbconvert_exporter": "python",
   "pygments_lexer": "ipython3",
   "version": "3.6.0"
  }
 },
 "nbformat": 4,
 "nbformat_minor": 2
}
